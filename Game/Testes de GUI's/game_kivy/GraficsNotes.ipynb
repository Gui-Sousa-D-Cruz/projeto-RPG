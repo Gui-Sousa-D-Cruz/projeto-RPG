{
 "cells": [
  {
   "cell_type": "markdown",
   "metadata": {},
   "source": [
    "<h1>Base de tela</h1>"
   ]
  },
  {
   "cell_type": "code",
   "execution_count": null,
   "metadata": {},
   "outputs": [],
   "source": [
    "<Tela1>:\n",
    "    BoxLayout:\n",
    "        orientation:'vertical'\n",
    "        BoxLayout:\n",
    "            Label:\n",
    "                text:''\n",
    "            Label:\n",
    "                text:''\n",
    "            Label:\n",
    "                text:''\n",
    "        BoxLayout:\n",
    "            Label:\n",
    "                id:cena\n",
    "                text:'Ao adentrar a pirâmide, você nota diversos hierógrifos na parede, o que deseja fazer?'\n",
    "        BoxLayout:\n",
    "            Label:\n",
    "                text:''\n",
    "            Label:\n",
    "                text:''\n",
    "            Label:\n",
    "                text:''\n",
    "        BoxLayout:\n",
    "            Button:\n",
    "                id:bt1\n",
    "                text:'Investigar.'\n",
    "                on_release: app.root.current = 'tela2_1'\n",
    "            Button:\n",
    "                id:bt2\n",
    "                text:'Passar Direto.'\n",
    "                on_release: app.root.current = 'tela2_2'\n",
    "        BoxLayout:\n",
    "            Button:\n",
    "                id:bt3\n",
    "                text:'Inventário'\n",
    "            Button:\n",
    "                id:bt4\n",
    "                text:'Status'"
   ]
  },
  {
   "cell_type": "code",
   "execution_count": null,
   "metadata": {},
   "outputs": [],
   "source": [
    "#saber qual tela está atualmente\n",
    "#implementar uma função pra retornar para a tela"
   ]
  }
 ],
 "metadata": {
  "kernelspec": {
   "display_name": "Python 3.10.2 64-bit",
   "language": "python",
   "name": "python3"
  },
  "language_info": {
   "name": "python",
   "version": "3.10.2"
  },
  "orig_nbformat": 4,
  "vscode": {
   "interpreter": {
    "hash": "b39b696dd1f05e3be327fa799154dacb071556fa5940d585f9482a06223cab0d"
   }
  }
 },
 "nbformat": 4,
 "nbformat_minor": 2
}
